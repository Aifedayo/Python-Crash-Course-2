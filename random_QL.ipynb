{
 "cells": [
  {
   "cell_type": "code",
   "execution_count": 29,
   "metadata": {},
   "outputs": [
    {
     "name": "stdout",
     "output_type": "stream",
     "text": [
      "('Team A', 'Animal Cracker')\n",
      "('Team B', 'Palindrome')\n",
      "('Team C', 'Makes Twenty')\n",
      "('Team D', 'Fizz Buzz')\n",
      "('Team E', 'Master Yoda')\n"
     ]
    }
   ],
   "source": [
    "import random, time\n",
    "\n",
    "\n",
    "teams = ['Team A', 'Team B', 'Team C', 'Team D', 'Team E']\n",
    "questions = ['Animal Cracker', 'Palindrome', 'Makes Twenty', 'Fizz Buzz', 'Master Yoda']\n",
    "\n",
    "def python_class(*args):\n",
    "    names = [team for team in teams]\n",
    "    quests = [question for question in questions]\n",
    "\n",
    "    for item in zip(names, quests):\n",
    "        print(item)\n",
    "\n",
    "\n",
    "python_class(team_mate)\n"
   ]
  }
 ],
 "metadata": {
  "interpreter": {
   "hash": "aee8b7b246df8f9039afb4144a1f6fd8d2ca17a180786b69acc140d282b71a49"
  },
  "kernelspec": {
   "display_name": "Python 3.9.7 64-bit",
   "name": "python3"
  },
  "language_info": {
   "codemirror_mode": {
    "name": "ipython",
    "version": 3
   },
   "file_extension": ".py",
   "mimetype": "text/x-python",
   "name": "python",
   "nbconvert_exporter": "python",
   "pygments_lexer": "ipython3",
   "version": "3.9.7"
  },
  "orig_nbformat": 4
 },
 "nbformat": 4,
 "nbformat_minor": 2
}
