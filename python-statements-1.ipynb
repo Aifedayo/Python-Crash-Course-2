{
 "cells": [
  {
   "cell_type": "code",
   "execution_count": null,
   "metadata": {},
   "outputs": [],
   "source": [
    "mylist = [\"name\", 54, 6.5, True]\n",
    "my_dict = {\"name\": \"hakeem\", \"place\": \"Nigeria\", \"score\": 78}\n",
    "my_dict.keys()\n",
    "my_dict.values()\n",
    "my_dict.items()\n"
   ]
  },
  {
   "cell_type": "code",
   "execution_count": null,
   "metadata": {},
   "outputs": [],
   "source": [
    "# Tuple(s)\n",
    "mylist =[12,13,14,15]\n",
    "mylist[0] = 11\n",
    "mylist\n",
    "\n",
    "my_tuple = (\"hakeem\", 13, 3.4, False, 13)\n",
    "\n",
    "len(my_tuple)\n",
    "#my_tuple[0] = \"salami\"\n",
    "#print(my_tuple)"
   ]
  },
  {
   "cell_type": "code",
   "execution_count": null,
   "metadata": {},
   "outputs": [],
   "source": [
    "my_tuple.count(13)"
   ]
  },
  {
   "cell_type": "code",
   "execution_count": null,
   "metadata": {},
   "outputs": [],
   "source": [
    "my_tuple.index(False)"
   ]
  },
  {
   "cell_type": "code",
   "execution_count": null,
   "metadata": {},
   "outputs": [],
   "source": [
    "\"\"\"\n",
    "Set in Python: collection of unique elements\n",
    "\"\"\"\n",
    "my_set = set()\n",
    "my_set.add(2)\n",
    "my_set.add(3)\n",
    "my_set.add(1)\n",
    "my_set.add(3)\n",
    "print(my_set)\n"
   ]
  },
  {
   "cell_type": "code",
   "execution_count": null,
   "metadata": {},
   "outputs": [],
   "source": [
    "my_list = [1,1,3,4,4,3,5,6,5,6,7]\n",
    "my_list\n",
    "set(my_list)"
   ]
  },
  {
   "cell_type": "code",
   "execution_count": null,
   "metadata": {},
   "outputs": [],
   "source": [
    "import random, time\n",
    "\n",
    "\n",
    "team_mates = ['mushrah', 'noyad', 'salami', 'codedbashir', 'thesmathub', 'kaybee', 'zee', 'samad', 'salakoa','sulayman']\n",
    "sorted(team_mates)\n",
    "\n",
    "present_team_mates = ['mushrah', 'zee', 'codedbashir', 'salakoA', 'sulayman', 'kaybee', 'salami']\n",
    "sorted(present_team_mates)\n",
    "\n",
    "if len(present_team_mates) < len(team_mates):\n",
    "    team_mate = random.sample(present_team_mates, k=1)\n",
    "\n",
    "else:\n",
    "    team_mate = random.sample(team_mates, k=1)\n",
    "\n",
    "def python_class(*args):\n",
    "    names = [name for name in team_mate]\n",
    "\n",
    "    for item in (names):\n",
    "        print(item)\n",
    "\n",
    "\n",
    "python_class(team_mate)\n"
   ]
  },
  {
   "cell_type": "code",
   "execution_count": null,
   "metadata": {},
   "outputs": [],
   "source": [
    "# Boolean : Operators that allow you to convey a\n",
    "# True or False Statements\n",
    "# True False None\n",
    "\n",
    "a = 3\n",
    "b = 4\n",
    "a == b\n",
    "a != b\n",
    "a < b\n",
    "a > b\n",
    "a >= b #gte\n",
    "a <= b #lte\n",
    "\"\"\"and\n",
    "or\n",
    "not\n",
    "\"\"\"\n",
    "# Reserved Keyword =  print, False, type, True, input, and, list, str, int, float, or, is, not, if, else, elif, break, pass, continue, yield, None, \n",
    "\n"
   ]
  },
  {
   "cell_type": "code",
   "execution_count": 97,
   "metadata": {},
   "outputs": [
    {
     "data": {
      "text/plain": [
       "True"
      ]
     },
     "execution_count": 97,
     "metadata": {},
     "output_type": "execute_result"
    }
   ],
   "source": [
    "\n",
    "1 < 2 < 3\n",
    "1 < 2 and 2 < 1 # & Will return True if both statements are True\n",
    "1 < 2 or 2 < 1  # | Will return True if atleast one of the statement is True\n",
    "# not\n",
    "a = 3\n",
    "b = 4 \n",
    "1 < 2 or 2 < 1\n",
    "\n"
   ]
  },
  {
   "cell_type": "code",
   "execution_count": null,
   "metadata": {},
   "outputs": [],
   "source": [
    "team_mates = ['mushrah', 'noyad', 'salami', 'codedbashir',\n",
    "'thesmathub', 'kaybee', 'zee', 'samad', 'salakoa','sulayman']\n",
    "\n",
    "present_team_mates = ['mushrah', 'zee', 'codedbashir', 'salakoA',\n",
    "    'sulayman', 'kaybee', 'salami']"
   ]
  },
  {
   "cell_type": "code",
   "execution_count": 104,
   "metadata": {},
   "outputs": [
    {
     "name": "stdout",
     "output_type": "stream",
     "text": [
      "Yes! Present\n"
     ]
    }
   ],
   "source": [
    "# Chained comparison\n",
    "\n",
    "if \"kaybee\" in present_team_mates or \"noyad\" in present_team_mates:\n",
    "    print(\"Yes! Present\")\n",
    "else:\n",
    "    print(\"No! Absent\")\n",
    "\n"
   ]
  },
  {
   "cell_type": "code",
   "execution_count": null,
   "metadata": {},
   "outputs": [],
   "source": [
    "\"\"\"\n",
    "Let us calculate\n",
    "\"\"\""
   ]
  },
  {
   "cell_type": "code",
   "execution_count": null,
   "metadata": {},
   "outputs": [],
   "source": [
    "# Python Statements\n",
    "if elif else\n",
    "# colon : and whitespace (1 tab= 4 spacebars)\n",
    "if some_condition:\n",
    "    do this\n",
    "else:\n",
    "    do that"
   ]
  },
  {
   "cell_type": "code",
   "execution_count": null,
   "metadata": {},
   "outputs": [],
   "source": [
    "a = 4\n",
    "b = 2\n",
    "if a < b:\n",
    "    print(\"Yes a is lesser than b\")\n",
    "elif a > b:\n",
    "else:\n",
    "    print(\"No, a is not lesser than b\")\n",
    "\n"
   ]
  },
  {
   "cell_type": "code",
   "execution_count": null,
   "metadata": {},
   "outputs": [],
   "source": [
    "location = \"Bank\"\n",
    "\n",
    "if location == \"Market\":\n",
    "    # False\n",
    "    print(\"One heck of a stinky place\")\n",
    "elif location == \"Police Station\":\n",
    "    # False\n",
    "    print(\"Wrong place to be\")\n",
    "elif location == \"Bank\":\n",
    "    # True\n",
    "    print(\"Welcome to our branch\")\n",
    "else:\n",
    "    print(\"Where are you?\")"
   ]
  },
  {
   "cell_type": "code",
   "execution_count": null,
   "metadata": {},
   "outputs": [],
   "source": [
    "person = input(\"Enter your name please: \")\n",
    "\n",
    "if person == \"kabir\":\n",
    "    print(\"Welcome kabir to our office\")\n",
    "elif person == \"mushrah\":\n",
    "    print(\"Welcome Mushrah to our tour centre\")\n",
    "else:\n",
    "    print(f\"Welcome {person}, how are you today?\")"
   ]
  },
  {
   "cell_type": "markdown",
   "metadata": {},
   "source": []
  },
  {
   "cell_type": "markdown",
   "metadata": {},
   "source": [
    "| Team | TeamMate | TeamMate |\n",
    "| ---- | ---- | ---- |\n",
    "| Team A | Musharraf | Murshid |\n",
    "| Team B | SalakoA | CodedBashir |\n",
    "| Team C | Kabir | Samad |\n",
    "| Team D | Noyad | Zee |\n",
    "| Team E | Salami | Sulayman |"
   ]
  },
  {
   "cell_type": "markdown",
   "metadata": {},
   "source": [
    "| Teams | Team A | Team B | Team C | Team D | Team E |\n",
    "| ---- | ---- | ---- | ---- | ---- | ---- |\n",
    "| Team Mates | Mushrah | CodedBashir | Kabir | Zee | Salami |\n",
    "| Team Mates 2 | Murshid | SalakoA | Samad | Noyad | Sulayman |"
   ]
  },
  {
   "cell_type": "code",
   "execution_count": 108,
   "metadata": {},
   "outputs": [
    {
     "name": "stdout",
     "output_type": "stream",
     "text": [
      "[0, 2, 4, 6, 8]\n"
     ]
    }
   ],
   "source": [
    "# built-in function range\n",
    "numbers = list(range(0, 10))\n",
    "print(numbers)"
   ]
  },
  {
   "cell_type": "code",
   "execution_count": null,
   "metadata": {},
   "outputs": [],
   "source": [
    "# Grade Checker\n",
    "\n",
    "name = input(\"Enter your name: \")\n",
    "score = int(input(\"Enter your score here: \"))\n",
    "\n",
    "# A, B, C, D, E, F\n",
    "\n",
    "if score >= 79:\n",
    "    print(f\"Hello {name}, You have an A! Congratulations\")\n",
    "\n",
    "elif score >= 65 and score <= 78:\n",
    "    print(f\"Hello {name}, You have a B! Very Good\")\n",
    "\n",
    "else:\n",
    "    print(f\"Hello {name}, You have a missing result\")"
   ]
  },
  {
   "cell_type": "code",
   "execution_count": 109,
   "metadata": {},
   "outputs": [
    {
     "data": {
      "text/plain": [
       "[1,\n",
       " 2,\n",
       " 3,\n",
       " 4,\n",
       " 5,\n",
       " 6,\n",
       " 7,\n",
       " 8,\n",
       " 9,\n",
       " 10,\n",
       " 11,\n",
       " 12,\n",
       " 13,\n",
       " 14,\n",
       " 15,\n",
       " 16,\n",
       " 17,\n",
       " 18,\n",
       " 19,\n",
       " 20,\n",
       " 21,\n",
       " 22,\n",
       " 23,\n",
       " 24,\n",
       " 25,\n",
       " 26,\n",
       " 27,\n",
       " 28,\n",
       " 29,\n",
       " 30,\n",
       " 31,\n",
       " 32,\n",
       " 33,\n",
       " 34,\n",
       " 35,\n",
       " 36,\n",
       " 37,\n",
       " 38,\n",
       " 39,\n",
       " 40,\n",
       " 41,\n",
       " 42,\n",
       " 43,\n",
       " 44,\n",
       " 45,\n",
       " 46,\n",
       " 47,\n",
       " 48,\n",
       " 49,\n",
       " 50,\n",
       " 51,\n",
       " 52,\n",
       " 53,\n",
       " 54,\n",
       " 55,\n",
       " 56,\n",
       " 57,\n",
       " 58,\n",
       " 59,\n",
       " 60,\n",
       " 61,\n",
       " 62,\n",
       " 63,\n",
       " 64,\n",
       " 65,\n",
       " 66,\n",
       " 67,\n",
       " 68,\n",
       " 69,\n",
       " 70,\n",
       " 71,\n",
       " 72,\n",
       " 73,\n",
       " 74,\n",
       " 75,\n",
       " 76,\n",
       " 77,\n",
       " 78,\n",
       " 79,\n",
       " 80,\n",
       " 81,\n",
       " 82,\n",
       " 83,\n",
       " 84,\n",
       " 85,\n",
       " 86,\n",
       " 87,\n",
       " 88,\n",
       " 89,\n",
       " 90,\n",
       " 91,\n",
       " 92,\n",
       " 93,\n",
       " 94,\n",
       " 95,\n",
       " 96,\n",
       " 97,\n",
       " 98,\n",
       " 99,\n",
       " 100]"
      ]
     },
     "execution_count": 109,
     "metadata": {},
     "output_type": "execute_result"
    }
   ],
   "source": [
    "list(range(1,101))"
   ]
  }
 ],
 "metadata": {
  "interpreter": {
   "hash": "aee8b7b246df8f9039afb4144a1f6fd8d2ca17a180786b69acc140d282b71a49"
  },
  "kernelspec": {
   "display_name": "Python 3.9.7 64-bit",
   "name": "python3"
  },
  "language_info": {
   "codemirror_mode": {
    "name": "ipython",
    "version": 3
   },
   "file_extension": ".py",
   "mimetype": "text/x-python",
   "name": "python",
   "nbconvert_exporter": "python",
   "pygments_lexer": "ipython3",
   "version": "3.9.7"
  },
  "orig_nbformat": 4
 },
 "nbformat": 4,
 "nbformat_minor": 2
}
