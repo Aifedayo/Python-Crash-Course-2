{
 "cells": [
  {
   "cell_type": "code",
   "execution_count": null,
   "metadata": {},
   "outputs": [],
   "source": [
    "# Data Structures \n",
    "# Built-in Data Structures\n",
    "\"\"\"\n",
    "List [], Dictionary {}, Set{}, Tuple()\n",
    "\"\"\"\n",
    "\n",
    "# List \n",
    "my_list = [\"hakeem\", 10, 12.5, True, \"samad\", 0.2323]\n",
    "print(type(my_list))\n",
    "\n",
    "len(my_list)"
   ]
  },
  {
   "cell_type": "code",
   "execution_count": null,
   "metadata": {},
   "outputs": [],
   "source": [
    "my_names = [\"kabir\", \"bashir\", \"munir\", \"yaseer\", \"nadheer\"]\n",
    "\n",
    "\n",
    "#my_names2 = [\"sally\", \"kelly\", \"molly\"]\n",
    "print(my_names.index(\"bashir\"))\n",
    "# name  = \"Sam\"\n",
    "# name[0] = \"P\"\n",
    "# print(name)\n",
    "my_names[3] = \"abdullah\"\n",
    "my_names"
   ]
  },
  {
   "cell_type": "code",
   "execution_count": null,
   "metadata": {},
   "outputs": [],
   "source": [
    "# Adding to a list\n",
    "my_names.append('jibola21')\n",
    "my_names"
   ]
  },
  {
   "cell_type": "code",
   "execution_count": null,
   "metadata": {},
   "outputs": [],
   "source": [
    "my_names.insert(3, \"samad\")\n",
    "my_names"
   ]
  },
  {
   "cell_type": "code",
   "execution_count": null,
   "metadata": {},
   "outputs": [],
   "source": [
    "# Clearing the elements in a List\n",
    "#my_names.clear()\n",
    "#my_names"
   ]
  },
  {
   "cell_type": "code",
   "execution_count": null,
   "metadata": {},
   "outputs": [],
   "source": [
    "# Using Python built-in help function\n",
    "help(my_names.append)"
   ]
  },
  {
   "cell_type": "code",
   "execution_count": null,
   "metadata": {},
   "outputs": [],
   "source": [
    "print(\"Here is the original list of names: {}\".format(my_names))\n",
    "print(my_names.count('jibola21'))\n"
   ]
  },
  {
   "cell_type": "code",
   "execution_count": null,
   "metadata": {},
   "outputs": [],
   "source": [
    "# Sort a list\n",
    "age_of_boys = [12, 34, 3, 56, 11]\n",
    "#age_of_boys.sort(reverse=True)\n",
    "sorted(age_of_boys)\n"
   ]
  },
  {
   "cell_type": "code",
   "execution_count": null,
   "metadata": {},
   "outputs": [],
   "source": [
    "# The reverse method\n",
    "age_of_boys = [12,4,2,34,17]\n",
    "#print(age_of_boys[::-1])\n",
    "#age_of_boys\n",
    "\n",
    "name = \"hakeem\"\n",
    "print(name[::-1])\n"
   ]
  },
  {
   "cell_type": "code",
   "execution_count": null,
   "metadata": {},
   "outputs": [],
   "source": [
    "# Pop method: Removes an element from a List\n",
    "print(\"Here is the original list: {}\".format(age_of_boys))\n",
    "age_of_boys.pop(0)\n",
    "print(\"Here is the list after using the pop method: {}\".format(age_of_boys))"
   ]
  },
  {
   "cell_type": "code",
   "execution_count": null,
   "metadata": {},
   "outputs": [],
   "source": [
    "# Using the remove method\n",
    "\n",
    "print(\"Here is the original list: {}\".format(my_names))\n",
    "my_names.remove(\"samad\")\n",
    "print(\"Here is the list after using the remove method: {}\".format(my_names))\n"
   ]
  },
  {
   "cell_type": "code",
   "execution_count": 118,
   "metadata": {},
   "outputs": [
    {
     "data": {
      "text/plain": [
       "14"
      ]
     },
     "execution_count": 118,
     "metadata": {},
     "output_type": "execute_result"
    }
   ],
   "source": [
    "age_of_boys = [12,13,10,9,14]\n",
    "len(age_of_boys)\n",
    "sum(age_of_boys)\n",
    "min(age_of_boys)\n",
    "max(age_of_boys)"
   ]
  },
  {
   "cell_type": "code",
   "execution_count": 121,
   "metadata": {},
   "outputs": [
    {
     "name": "stdout",
     "output_type": "stream",
     "text": [
      "hakeemhakeem\n",
      "[12, 13, 10, 9, 14, 12, 13, 10, 9, 14]\n"
     ]
    }
   ],
   "source": [
    "name = 'hakeem'\n",
    "print(name * 2)\n",
    "print(age_of_boys * 2)\n"
   ]
  },
  {
   "cell_type": "code",
   "execution_count": 137,
   "metadata": {},
   "outputs": [
    {
     "name": "stdout",
     "output_type": "stream",
     "text": [
      "[[1, 2, 3], ['bashir', 'noyad', 'samad', [12, 17, 10]], [7, 8, 9]]\n",
      "17\n"
     ]
    }
   ],
   "source": [
    "# Nested List simply means a list or lists in a list\n",
    "mylist1 = [1,2,3]\n",
    "mylist2 = [\"bashir\", \"noyad\", \"samad\", [12, 17, 10]]\n",
    "mylist3 = [7,8,9]\n",
    "\n",
    "matrix = [mylist1, mylist2, mylist3]\n",
    "#print(matrix)\n",
    "# In this list, return 17\n",
    "print(matrix)\n",
    "print(matrix[1][3][1])\n",
    "\n",
    "# kivy => Game Development\n",
    "# Web/ Software  => dev Django, Flask, Pyramid\n",
    "# Web Scraping, Automation => Selenium , BeautifulSoup, MechanicalSoup\n",
    "# Data Science => Numpy, Matplotlib, Panda, Scipy\n",
    "# Machine Learning, Artifical Intelligence =>  \n",
    "\n",
    "\n",
    "\n",
    "\n",
    "\n"
   ]
  }
 ],
 "metadata": {
  "interpreter": {
   "hash": "aee8b7b246df8f9039afb4144a1f6fd8d2ca17a180786b69acc140d282b71a49"
  },
  "kernelspec": {
   "display_name": "Python 3.9.7 64-bit",
   "name": "python3"
  },
  "language_info": {
   "codemirror_mode": {
    "name": "ipython",
    "version": 3
   },
   "file_extension": ".py",
   "mimetype": "text/x-python",
   "name": "python",
   "nbconvert_exporter": "python",
   "pygments_lexer": "ipython3",
   "version": "3.9.7"
  },
  "orig_nbformat": 4
 },
 "nbformat": 4,
 "nbformat_minor": 2
}
