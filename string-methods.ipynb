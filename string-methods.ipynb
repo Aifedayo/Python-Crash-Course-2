{
 "cells": [
  {
   "cell_type": "code",
   "execution_count": null,
   "metadata": {},
   "outputs": [],
   "source": [
    "first_name = \"Hello World\"\n",
    "# upper(), lower(), capitalize(), .join(), split()\n",
    "'-'.join(first_name)\n"
   ]
  },
  {
   "cell_type": "code",
   "execution_count": null,
   "metadata": {},
   "outputs": [],
   "source": [
    "first_name = \"hakeem\"\n",
    "first_name.upper()"
   ]
  },
  {
   "cell_type": "code",
   "execution_count": null,
   "metadata": {},
   "outputs": [],
   "source": [
    "last_name = \"OLAGUNJU\"\n",
    "last_name.lower()"
   ]
  },
  {
   "cell_type": "code",
   "execution_count": null,
   "metadata": {},
   "outputs": [],
   "source": [
    "mystring = \"Hello Beautiful Nigerian People\"\n",
    "mystring.capitalize()"
   ]
  },
  {
   "cell_type": "code",
   "execution_count": null,
   "metadata": {},
   "outputs": [],
   "source": [
    "mysplit = \"Hello People of Python Crash Course\"\n",
    "mysplit.split()"
   ]
  },
  {
   "cell_type": "code",
   "execution_count": null,
   "metadata": {},
   "outputs": [],
   "source": [
    "mycount = \"Hello People of Python Crash Course\"\n",
    "mycount.count('P')"
   ]
  },
  {
   "cell_type": "code",
   "execution_count": null,
   "metadata": {},
   "outputs": [],
   "source": [
    "myindex = \"Hello People of Python Crash Course\"\n",
    "myindex.index('People')"
   ]
  },
  {
   "cell_type": "code",
   "execution_count": null,
   "metadata": {},
   "outputs": [],
   "source": [
    "name = \"Sam\"\n",
    "name2 = \" Pam\"\n",
    "print(name+name2)\n",
    "\n",
    "\n",
    "name = \"MUSHARRAF\"\n",
    "myname = name.lower()\n",
    "print(myname)"
   ]
  },
  {
   "cell_type": "code",
   "execution_count": 3,
   "metadata": {},
   "outputs": [
    {
     "name": "stdout",
     "output_type": "stream",
     "text": [
      "Here are your questions:\n",
      "('salakoA', '1. Create a list that contains at least one string, one integer and one float')\n",
      "('noyad', \"15. my_dict = {'k1':[1,2,{'k2':['this is tricky',{'tough':[1,2,['hello']]}]}]}. Grab 'hello'\")\n",
      "('samad', \"13. my_dict = {'k1': {'k2': 'Hello'}}. Grab 'Hello'\")\n",
      "('mushrah', \"10. Given d = {'k1':[1,2,3]}. What is the ouput of d['k1'][1]\")\n",
      "('codedbashir', '7. Create a dictionary with three key-value pair')\n",
      "('thesmathub', '9. Dictionaries retain order and are a sequence')\n",
      "('zee', '8. Create a dictionary where all the keys are strings, and all the values are integers.')\n",
      "('kaybee', \"5. if lst=['a','b','c'] What is the result of lst[1:]?\")\n",
      "('sulayman', '2. how do I index a nested list? For example if I want to grab 2 from [1,1,[1,2]]')\n"
     ]
    }
   ],
   "source": [
    "from random_choice import python_class\n",
    "import time\n",
    "\n",
    "print('Here are your questions:' )\n",
    "#time.sleep(10)\n",
    "python_class()\n",
    "\n",
    "#time.sleep(90)"
   ]
  }
 ],
 "metadata": {
  "interpreter": {
   "hash": "aee8b7b246df8f9039afb4144a1f6fd8d2ca17a180786b69acc140d282b71a49"
  },
  "kernelspec": {
   "display_name": "Python 3.9.7 64-bit",
   "name": "python3"
  },
  "language_info": {
   "codemirror_mode": {
    "name": "ipython",
    "version": 3
   },
   "file_extension": ".py",
   "mimetype": "text/x-python",
   "name": "python",
   "nbconvert_exporter": "python",
   "pygments_lexer": "ipython3",
   "version": "3.9.7"
  },
  "orig_nbformat": 4
 },
 "nbformat": 4,
 "nbformat_minor": 2
}
