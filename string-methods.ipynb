{
 "cells": [
  {
   "cell_type": "code",
   "execution_count": null,
   "metadata": {},
   "outputs": [],
   "source": []
  },
  {
   "cell_type": "code",
   "execution_count": null,
   "metadata": {},
   "outputs": [],
   "source": [
    "first_name = \"Hello World\"\n",
    "# upper(), lower(), capitalize(), .join(), split()\n",
    "'-'.join(first_name)\n"
   ]
  },
  {
   "cell_type": "code",
   "execution_count": null,
   "metadata": {},
   "outputs": [],
   "source": [
    "first_name = \"hakeem\"\n",
    "first_name.upper()"
   ]
  },
  {
   "cell_type": "code",
   "execution_count": null,
   "metadata": {},
   "outputs": [],
   "source": [
    "last_name = \"OLAGUNJU\"\n",
    "last_name.lower()"
   ]
  },
  {
   "cell_type": "code",
   "execution_count": null,
   "metadata": {},
   "outputs": [],
   "source": [
    "mystring = \"Hello Beautiful Nigerian People\"\n",
    "mystring.capitalize()"
   ]
  },
  {
   "cell_type": "code",
   "execution_count": null,
   "metadata": {},
   "outputs": [],
   "source": [
    "mysplit = \"Hello People of Python Crash Course\"\n",
    "mysplit.split()"
   ]
  },
  {
   "cell_type": "code",
   "execution_count": null,
   "metadata": {},
   "outputs": [],
   "source": [
    "mycount = \"Hello People of Python Crash Course\"\n",
    "mycount.count('P')"
   ]
  },
  {
   "cell_type": "code",
   "execution_count": null,
   "metadata": {},
   "outputs": [],
   "source": [
    "myindex = \"Hello People of Python Crash Course\"\n",
    "myindex.index('People')"
   ]
  },
  {
   "cell_type": "code",
   "execution_count": null,
   "metadata": {},
   "outputs": [],
   "source": [
    "name = \"Sam\"\n",
    "name2 = \" Pam\"\n",
    "print(name+name2)\n",
    "\n",
    "\n",
    "name = \"MUSHARRAF\"\n",
    "myname = name.lower()\n",
    "print(myname)"
   ]
  },
  {
   "cell_type": "code",
   "execution_count": 6,
   "metadata": {},
   "outputs": [
    {
     "name": "stdout",
     "output_type": "stream",
     "text": [
      "Here are your questions:\n",
      "Using the given index, what will each of the statement return?\n",
      "('salakoA', 'story = \"Python is awesome\" - What is story[2:4] + story[-1] ?')\n",
      "('noyad', 'flower = \"Rose\" What is flower[0] = \"P\"? Will it return \"Pose\"?')\n",
      "('thesmathub', 'Using the built-in method, how will you \"Hello World\" as a list?')\n",
      "('samad', 'What is the index of the first character in a string?')\n",
      "('zee', 'Write a code that returns \"MUSHRAH\" as \"mushrah\"')\n",
      "('mushrah', 'How do i add a \"-\" in between every character in a string \"Python is cool\" ?')\n",
      "('codedbashir', 'Hello there, how old are you? - What index will return \"how old\" ?')\n",
      "('kaybee', 'word = \"Python is so cool\" - What is word[-4:] * 3')\n",
      "('sulayman', 'Write a code that returns \"pepsi\" as \"PEPSI\"')\n"
     ]
    }
   ],
   "source": [
    "from random_choice import python_class\n",
    "import time\n",
    "\n",
    "print('Here are your questions:' )\n",
    "#time.sleep(10)\n",
    "python_class()\n",
    "\n",
    "#time.sleep(90)"
   ]
  }
 ],
 "metadata": {
  "interpreter": {
   "hash": "aee8b7b246df8f9039afb4144a1f6fd8d2ca17a180786b69acc140d282b71a49"
  },
  "kernelspec": {
   "display_name": "Python 3.9.7 64-bit",
   "name": "python3"
  },
  "language_info": {
   "codemirror_mode": {
    "name": "ipython",
    "version": 3
   },
   "file_extension": ".py",
   "mimetype": "text/x-python",
   "name": "python",
   "nbconvert_exporter": "python",
   "pygments_lexer": "ipython3",
   "version": "3.9.7"
  },
  "orig_nbformat": 4
 },
 "nbformat": 4,
 "nbformat_minor": 2
}
