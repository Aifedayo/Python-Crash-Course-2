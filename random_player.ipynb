{
 "cells": [
  {
   "cell_type": "code",
   "execution_count": 23,
   "metadata": {},
   "outputs": [
    {
     "name": "stdout",
     "output_type": "stream",
     "text": [
      "Who is to answer the question? :Bash\n"
     ]
    },
    {
     "data": {
      "text/plain": [
       "['Who is to answer the question? :kaybee',\n",
       " 'Who is to answer the question? :salami']"
      ]
     },
     "execution_count": 23,
     "metadata": {},
     "output_type": "execute_result"
    }
   ],
   "source": [
    "import random\n",
    "\n",
    "team_mates = ['Mush',\n",
    "            'salakoa', \n",
    "            'Bash', \n",
    "            'Noyad', \n",
    "            'Murshid', \n",
    "            'sulayman', \n",
    "            'kaybee', \n",
    "            'salami', \n",
    "            'zee']\n",
    "\n",
    "list = [f'Who is to answer the question? :{team_mate}' for team_mate in team_mates]\n",
    "\n",
    "#random.choices(list, k=3)\n",
    "print(random.choice(list))\n",
    "random.sample(list, k=2)\n"
   ]
  }
 ],
 "metadata": {
  "interpreter": {
   "hash": "aee8b7b246df8f9039afb4144a1f6fd8d2ca17a180786b69acc140d282b71a49"
  },
  "kernelspec": {
   "display_name": "Python 3.9.7 64-bit",
   "name": "python3"
  },
  "language_info": {
   "codemirror_mode": {
    "name": "ipython",
    "version": 3
   },
   "file_extension": ".py",
   "mimetype": "text/x-python",
   "name": "python",
   "nbconvert_exporter": "python",
   "pygments_lexer": "ipython3",
   "version": "3.9.7"
  },
  "orig_nbformat": 4
 },
 "nbformat": 4,
 "nbformat_minor": 2
}
