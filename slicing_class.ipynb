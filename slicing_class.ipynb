{
 "cells": [
  {
   "cell_type": "code",
   "execution_count": 186,
   "metadata": {},
   "outputs": [
    {
     "name": "stdout",
     "output_type": "stream",
     "text": [
      "('mushrah', ' Kaduna is been ravished by bandits, we hope peace is restored soon.')\n",
      "('noyad', ' I really want to travel out of Nigeria to a place of greener pasture')\n",
      "('codedbashir', ' What year was python created?')\n",
      "('zee', ' I am a native of offa, in Kwara State')\n"
     ]
    }
   ],
   "source": [
    "import random\n",
    "\n",
    "\n",
    "team_mates = ['mushrah', 'noyad', 'salami', 'codedbashir', 'thesmathub', 'kaybee', 'zee', 'samad', 'salakoa','sulayman']\n",
    "present_team_mates = ['mushrah', 'zee', 'noyad', 'codedbashir']\n",
    "\n",
    "if len(present_team_mates) < len(team_mates):\n",
    "    team_mate = random.sample(present_team_mates, k=(len(present_team_mates)))\n",
    "\n",
    "else:\n",
    "    team_mate = random.sample(team_mates, k=len(team_mates))\n",
    "\n",
    "def python_class(*args):\n",
    "    with open('question.txt', mode='r') as my_question:\n",
    "        content = ' '.join(my_question.readlines()).split('\\n')\n",
    "        questions = random.sample(content, len(team_mate))\n",
    "    \n",
    "    index_list = ['[4:15]', '[::2]', '[:10]', '[3:12]']\n",
    "    index_list = random.sample(index_list, k=1)\n",
    "    \n",
    "    \n",
    "    names = [(name for name in team_mate]\n",
    "    \n",
    "    quests = [question for question in questions]\n",
    "    \n",
    "\n",
    "    for item in zip(names, quests):\n",
    "        print(item)\n",
    "\n",
    "\n",
    "    \n",
    "python_class(team_mate)\n"
   ]
  }
 ],
 "metadata": {
  "interpreter": {
   "hash": "aee8b7b246df8f9039afb4144a1f6fd8d2ca17a180786b69acc140d282b71a49"
  },
  "kernelspec": {
   "display_name": "Python 3.9.7 64-bit",
   "name": "python3"
  },
  "language_info": {
   "codemirror_mode": {
    "name": "ipython",
    "version": 3
   },
   "file_extension": ".py",
   "mimetype": "text/x-python",
   "name": "python",
   "nbconvert_exporter": "python",
   "pygments_lexer": "ipython3",
   "version": "3.9.7"
  },
  "orig_nbformat": 4
 },
 "nbformat": 4,
 "nbformat_minor": 2
}
